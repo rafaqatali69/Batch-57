{
  "nbformat": 4,
  "nbformat_minor": 0,
  "metadata": {
    "colab": {
      "provenance": [],
      "authorship_tag": "ABX9TyPo+OhH3j/BNuAn/YqG2s6i",
      "include_colab_link": true
    },
    "kernelspec": {
      "name": "python3",
      "display_name": "Python 3"
    },
    "language_info": {
      "name": "python"
    }
  },
  "cells": [
    {
      "cell_type": "markdown",
      "metadata": {
        "id": "view-in-github",
        "colab_type": "text"
      },
      "source": [
        "<a href=\"https://colab.research.google.com/github/rafaqatali69/Batch-57/blob/main/assignment_2_151224.ipynb\" target=\"_parent\"><img src=\"https://colab.research.google.com/assets/colab-badge.svg\" alt=\"Open In Colab\"/></a>"
      ]
    },
    {
      "cell_type": "code",
      "execution_count": null,
      "metadata": {
        "id": "3tQAtnQB56SR"
      },
      "outputs": [],
      "source": [
        "from google.colab import userdata\n",
        "API_KEY=userdata.get('GOOGLE_API_KEY')"
      ]
    },
    {
      "cell_type": "code",
      "source": [
        "!pip install google.generativeai"
      ],
      "metadata": {
        "colab": {
          "base_uri": "https://localhost:8080/"
        },
        "id": "428HH10m8kXw",
        "outputId": "3a34e826-afbb-4a75-c404-059c60653a33"
      },
      "execution_count": null,
      "outputs": [
        {
          "output_type": "stream",
          "name": "stdout",
          "text": [
            "Requirement already satisfied: google.generativeai in /usr/local/lib/python3.10/dist-packages (0.8.3)\n",
            "Requirement already satisfied: google-ai-generativelanguage==0.6.10 in /usr/local/lib/python3.10/dist-packages (from google.generativeai) (0.6.10)\n",
            "Requirement already satisfied: google-api-core in /usr/local/lib/python3.10/dist-packages (from google.generativeai) (2.19.2)\n",
            "Requirement already satisfied: google-api-python-client in /usr/local/lib/python3.10/dist-packages (from google.generativeai) (2.151.0)\n",
            "Requirement already satisfied: google-auth>=2.15.0 in /usr/local/lib/python3.10/dist-packages (from google.generativeai) (2.27.0)\n",
            "Requirement already satisfied: protobuf in /usr/local/lib/python3.10/dist-packages (from google.generativeai) (4.25.5)\n",
            "Requirement already satisfied: pydantic in /usr/local/lib/python3.10/dist-packages (from google.generativeai) (2.10.3)\n",
            "Requirement already satisfied: tqdm in /usr/local/lib/python3.10/dist-packages (from google.generativeai) (4.66.6)\n",
            "Requirement already satisfied: typing-extensions in /usr/local/lib/python3.10/dist-packages (from google.generativeai) (4.12.2)\n",
            "Requirement already satisfied: proto-plus<2.0.0dev,>=1.22.3 in /usr/local/lib/python3.10/dist-packages (from google-ai-generativelanguage==0.6.10->google.generativeai) (1.25.0)\n",
            "Requirement already satisfied: googleapis-common-protos<2.0.dev0,>=1.56.2 in /usr/local/lib/python3.10/dist-packages (from google-api-core->google.generativeai) (1.66.0)\n",
            "Requirement already satisfied: requests<3.0.0.dev0,>=2.18.0 in /usr/local/lib/python3.10/dist-packages (from google-api-core->google.generativeai) (2.32.3)\n",
            "Requirement already satisfied: cachetools<6.0,>=2.0.0 in /usr/local/lib/python3.10/dist-packages (from google-auth>=2.15.0->google.generativeai) (5.5.0)\n",
            "Requirement already satisfied: pyasn1-modules>=0.2.1 in /usr/local/lib/python3.10/dist-packages (from google-auth>=2.15.0->google.generativeai) (0.4.1)\n",
            "Requirement already satisfied: rsa<5,>=3.1.4 in /usr/local/lib/python3.10/dist-packages (from google-auth>=2.15.0->google.generativeai) (4.9)\n",
            "Requirement already satisfied: httplib2<1.dev0,>=0.19.0 in /usr/local/lib/python3.10/dist-packages (from google-api-python-client->google.generativeai) (0.22.0)\n",
            "Requirement already satisfied: google-auth-httplib2<1.0.0,>=0.2.0 in /usr/local/lib/python3.10/dist-packages (from google-api-python-client->google.generativeai) (0.2.0)\n",
            "Requirement already satisfied: uritemplate<5,>=3.0.1 in /usr/local/lib/python3.10/dist-packages (from google-api-python-client->google.generativeai) (4.1.1)\n",
            "Requirement already satisfied: annotated-types>=0.6.0 in /usr/local/lib/python3.10/dist-packages (from pydantic->google.generativeai) (0.7.0)\n",
            "Requirement already satisfied: pydantic-core==2.27.1 in /usr/local/lib/python3.10/dist-packages (from pydantic->google.generativeai) (2.27.1)\n",
            "Requirement already satisfied: grpcio<2.0dev,>=1.33.2 in /usr/local/lib/python3.10/dist-packages (from google-api-core[grpc]!=2.0.*,!=2.1.*,!=2.10.*,!=2.2.*,!=2.3.*,!=2.4.*,!=2.5.*,!=2.6.*,!=2.7.*,!=2.8.*,!=2.9.*,<3.0.0dev,>=1.34.1->google-ai-generativelanguage==0.6.10->google.generativeai) (1.68.1)\n",
            "Requirement already satisfied: grpcio-status<2.0.dev0,>=1.33.2 in /usr/local/lib/python3.10/dist-packages (from google-api-core[grpc]!=2.0.*,!=2.1.*,!=2.10.*,!=2.2.*,!=2.3.*,!=2.4.*,!=2.5.*,!=2.6.*,!=2.7.*,!=2.8.*,!=2.9.*,<3.0.0dev,>=1.34.1->google-ai-generativelanguage==0.6.10->google.generativeai) (1.62.3)\n",
            "Requirement already satisfied: pyparsing!=3.0.0,!=3.0.1,!=3.0.2,!=3.0.3,<4,>=2.4.2 in /usr/local/lib/python3.10/dist-packages (from httplib2<1.dev0,>=0.19.0->google-api-python-client->google.generativeai) (3.2.0)\n",
            "Requirement already satisfied: pyasn1<0.7.0,>=0.4.6 in /usr/local/lib/python3.10/dist-packages (from pyasn1-modules>=0.2.1->google-auth>=2.15.0->google.generativeai) (0.6.1)\n",
            "Requirement already satisfied: charset-normalizer<4,>=2 in /usr/local/lib/python3.10/dist-packages (from requests<3.0.0.dev0,>=2.18.0->google-api-core->google.generativeai) (3.4.0)\n",
            "Requirement already satisfied: idna<4,>=2.5 in /usr/local/lib/python3.10/dist-packages (from requests<3.0.0.dev0,>=2.18.0->google-api-core->google.generativeai) (3.10)\n",
            "Requirement already satisfied: urllib3<3,>=1.21.1 in /usr/local/lib/python3.10/dist-packages (from requests<3.0.0.dev0,>=2.18.0->google-api-core->google.generativeai) (2.2.3)\n",
            "Requirement already satisfied: certifi>=2017.4.17 in /usr/local/lib/python3.10/dist-packages (from requests<3.0.0.dev0,>=2.18.0->google-api-core->google.generativeai) (2024.8.30)\n"
          ]
        }
      ]
    },
    {
      "cell_type": "code",
      "source": [
        "import google.generativeai as genai"
      ],
      "metadata": {
        "id": "83qs1c-z8n3J"
      },
      "execution_count": null,
      "outputs": []
    },
    {
      "cell_type": "code",
      "source": [
        " genai.configure(api_key= API_KEY)"
      ],
      "metadata": {
        "id": "p5AZVtr09ZWH"
      },
      "execution_count": null,
      "outputs": []
    },
    {
      "cell_type": "code",
      "source": [
        "Model = genai.GenerativeModel('gemini-1.5-flash-002')"
      ],
      "metadata": {
        "id": "HcLrj_YXB-tr"
      },
      "execution_count": null,
      "outputs": []
    },
    {
      "cell_type": "code",
      "source": [
        "response = Model.generate_content('''\n",
        "API\n",
        "SDK\n",
        "Web APIs\n",
        "Library APIs\n",
        "Prompting and Completion\n",
        " ''')"
      ],
      "metadata": {
        "id": "OGV5xfSXCinR"
      },
      "execution_count": null,
      "outputs": []
    },
    {
      "cell_type": "code",
      "source": [
        "print(response.text)"
      ],
      "metadata": {
        "colab": {
          "base_uri": "https://localhost:8080/"
        },
        "id": "8uE6h2vPDome",
        "outputId": "0b30068f-59a4-4be9-dabe-35d5530c91a8"
      },
      "execution_count": null,
      "outputs": [
        {
          "output_type": "stream",
          "name": "stdout",
          "text": [
            "Let's break down these concepts and how they relate to each other:\n",
            "\n",
            "**1. API (Application Programming Interface):**\n",
            "\n",
            "* **Definition:**  An API is a set of rules and specifications that software programs can follow to communicate with each other. It's like a messenger that allows different applications to talk to each other and exchange information or functionality.\n",
            "* **Purpose:** APIs enable developers to leverage existing software components or services without needing to understand their internal workings. This promotes code reusability and saves development time.\n",
            "* **Analogy:** Think of a restaurant menu.  You (the user/application) use the menu (the API) to tell the kitchen (another application/service) what you want. The kitchen prepares your food and the waiter (the API again) brings it back to you. You don't need to know how the kitchen works to get your food.\n",
            "\n",
            "**2. SDK (Software Development Kit):**\n",
            "\n",
            "* **Definition:** An SDK is a collection of tools, libraries, documentation, code samples, and/or processes that developers use to create applications for a specific platform or using a specific technology.\n",
            "* **Purpose:** SDKs provide a more comprehensive set of resources than a standalone API. They make it easier to integrate with a particular service or platform by providing pre-built components and helpful tools.\n",
            "* **Analogy:**  An SDK is like a fully equipped toolbox for building something specific.  If you want to build a birdhouse (an app), the SDK would provide the wood, nails, hammer, saw, blueprints, and instructions.  An API would be like just having the nails. You could still use them, but it would be much harder to build the birdhouse.\n",
            "* **Relationship to APIs:** SDKs often *include* APIs. The API defines how you interact with a service, while the SDK gives you the tools and building blocks to do so more easily.\n",
            "\n",
            "**3. Web APIs:**\n",
            "\n",
            "* **Definition:** Web APIs are APIs that are accessed over the internet using the HTTP protocol.  They allow different web services to communicate and exchange data, typically in formats like JSON or XML.\n",
            "* **Examples:** The Twitter API lets you access tweets, the Google Maps API lets you embed maps in your website, and weather APIs provide weather data.\n",
            "* **Relationship to APIs:** Web APIs are a specific *type* of API designed for web-based communication.\n",
            "\n",
            "**4. Library APIs:**\n",
            "\n",
            "* **Definition:** Library APIs are APIs provided by software libraries (collections of pre-written code). These APIs allow developers to access and use the functionality provided by the library without having to write the code themselves.\n",
            "* **Examples:**  A graphics library might have an API for drawing shapes or displaying images. A math library might have an API for performing complex calculations.\n",
            "* **Relationship to APIs:** Library APIs are another *type* of API specific to software libraries.\n",
            "\n",
            "**5. Prompting and Completion:**\n",
            "\n",
            "* **Definition:** This refers to the interaction paradigm used with large language models (LLMs) like ChatGPT.  You provide a *prompt* (an instruction or piece of text) and the LLM generates a *completion* (a continuation of the text or a response to the instruction).\n",
            "* **Relationship to APIs:**  Many LLMs are accessible through Web APIs. You send your prompt to the API as a request, and the API returns the LLM's completion as a response.  The API handles the communication and data exchange between your application and the LLM.  SDKs are also frequently available for LLMs, simplifying the process of integrating them into applications.\n",
            "\n",
            "\n",
            "In summary:  APIs are the fundamental communication channels between software components. SDKs are toolkits that often include APIs and other resources. Web APIs are a type of API used for web communication. Library APIs are APIs specific to software libraries.  Prompting and completion is a way of interacting with LLMs, which are often accessed through Web APIs and facilitated by SDKs.\n",
            "\n"
          ]
        }
      ]
    }
  ]
}