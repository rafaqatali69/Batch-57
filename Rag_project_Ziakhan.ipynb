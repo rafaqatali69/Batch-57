{
  "nbformat": 4,
  "nbformat_minor": 0,
  "metadata": {
    "colab": {
      "private_outputs": true,
      "provenance": [],
      "authorship_tag": "ABX9TyNwwo14//WpEehx132RwKIi",
      "include_colab_link": true
    },
    "kernelspec": {
      "name": "python3",
      "display_name": "Python 3"
    },
    "language_info": {
      "name": "python"
    }
  },
  "cells": [
    {
      "cell_type": "markdown",
      "metadata": {
        "id": "view-in-github",
        "colab_type": "text"
      },
      "source": [
        "<a href=\"https://colab.research.google.com/github/rafaqatali69/Batch-57/blob/main/Rag_project_Ziakhan.ipynb\" target=\"_parent\"><img src=\"https://colab.research.google.com/assets/colab-badge.svg\" alt=\"Open In Colab\"/></a>"
      ]
    },
    {
      "cell_type": "markdown",
      "source": [
        "Import Google key"
      ],
      "metadata": {
        "id": "IglCdh43MAzb"
      }
    },
    {
      "cell_type": "code",
      "execution_count": null,
      "metadata": {
        "id": "iOhWUghWYeNh"
      },
      "outputs": [],
      "source": [
        "from google.colab import userdata\n",
        "GEM_API_KEY =userdata.get('GOOGLE_API_KEY')\n",
        "print(GEM_API_KEY)"
      ]
    },
    {
      "cell_type": "markdown",
      "source": [
        "**installion of langchain chroma and langchain community**"
      ],
      "metadata": {
        "id": "W42D5IXsMJ3Z"
      }
    },
    {
      "cell_type": "code",
      "source": [
        "%pip install -qU pypdf\n",
        "!pip install langchain_community pypdf -q langchain_google_genai  langchain_chroma\n",
        "!pip install  --upgrade -q google-auth google-auth-oauthlib google-auth-httplib2  google-cloud"
      ],
      "metadata": {
        "id": "qBTcOLRqsjEe"
      },
      "execution_count": null,
      "outputs": []
    },
    {
      "cell_type": "markdown",
      "source": [
        "**Upload the Document file in PDF format**"
      ],
      "metadata": {
        "id": "pGbx7bEFPmMQ"
      }
    },
    {
      "cell_type": "code",
      "source": [
        "from langchain_community.document_loaders import PyPDFLoader\n",
        "\n",
        "loader = PyPDFLoader(\"/K2. Life and death on the worlds most dangerous mountain - Ed Viesturs.pdf\")\n",
        "data = loader.load()\n"
      ],
      "metadata": {
        "id": "YzW14fwtuqvH"
      },
      "execution_count": null,
      "outputs": []
    },
    {
      "cell_type": "markdown",
      "source": [
        "**Print the content of File**"
      ],
      "metadata": {
        "id": "1C2CNvJqTLLl"
      }
    },
    {
      "cell_type": "code",
      "source": [
        "print(data[0].metadata)\n",
        "print(data[0].page_content)"
      ],
      "metadata": {
        "id": "NUPpX-xJs48G"
      },
      "execution_count": null,
      "outputs": []
    },
    {
      "cell_type": "markdown",
      "source": [
        "**split the document by Rag and langchain calling**"
      ],
      "metadata": {
        "id": "KhbqdmRPTfTn"
      }
    },
    {
      "cell_type": "code",
      "source": [
        "from langchain.text_splitter import RecursiveCharacterTextSplitter\n",
        "\n",
        "text_splitter = RecursiveCharacterTextSplitter(chunk_size=1000)\n",
        "docs = text_splitter.split_documents(data)\n",
        "\n",
        "\n",
        "print(\"total number of documents : \" ,len(docs))"
      ],
      "metadata": {
        "id": "glsq66GGtg59"
      },
      "execution_count": null,
      "outputs": []
    },
    {
      "cell_type": "markdown",
      "source": [
        "**Document Lengh**"
      ],
      "metadata": {
        "id": "X-ajbVXMZ-rW"
      }
    },
    {
      "cell_type": "code",
      "source": [
        "len(data)"
      ],
      "metadata": {
        "id": "egZdt11BwS7H"
      },
      "execution_count": null,
      "outputs": []
    },
    {
      "cell_type": "markdown",
      "source": [
        "**Download test.jsn file and start Embedding of Documents**\n",
        "\n",
        "https://drive.google.com/file/d/1afKObnhCZ9UeXyMuqiV2t4BJ9Nkvgm4D/view"
      ],
      "metadata": {
        "id": "9s9BX4UpaDGi"
      }
    },
    {
      "cell_type": "code",
      "source": [
        "import os\n",
        "os.environ[\"GOOGLE_APPLICATION_CREDENTIALS\"] = \"/test.json\""
      ],
      "metadata": {
        "id": "GfRnxLXE0lq0"
      },
      "execution_count": null,
      "outputs": []
    },
    {
      "cell_type": "code",
      "source": [
        "from langchain_google_genai import GoogleGenerativeAIEmbeddings\n",
        "from langchain_chroma import Chroma"
      ],
      "metadata": {
        "id": "nRntxWUe0uOv"
      },
      "execution_count": null,
      "outputs": []
    },
    {
      "cell_type": "code",
      "source": [
        "embedding = GoogleGenerativeAIEmbeddings(model=\"models/embedding-001\" , google_api_key=GEM_API_KEY)"
      ],
      "metadata": {
        "id": "H7uBeYY000gq"
      },
      "execution_count": null,
      "outputs": []
    },
    {
      "cell_type": "code",
      "source": [
        "vectorstore = Chroma.from_documents(documents=docs, embedding=embedding)\n",
        "retriever = vectorstore.as_retriever(search_type=\"similarity\", search_kwargs={\"k\": 10})\n"
      ],
      "metadata": {
        "id": "TrvpvqbN1Cn_"
      },
      "execution_count": null,
      "outputs": []
    },
    {
      "cell_type": "markdown",
      "source": [
        "**LLM Model for Langchain calling**"
      ],
      "metadata": {
        "id": "iW43fbUtbH88"
      }
    },
    {
      "cell_type": "code",
      "source": [
        "from langchain_google_genai import ChatGoogleGenerativeAI\n",
        "llm = ChatGoogleGenerativeAI(model = \"gemini-2.0-flash-exp\" , temperature = 0.3 , max_tokens=1000)\n"
      ],
      "metadata": {
        "id": "kTh15Cdm1KA6"
      },
      "execution_count": null,
      "outputs": []
    },
    {
      "cell_type": "markdown",
      "source": [
        "**Retriwal of Data**"
      ],
      "metadata": {
        "id": "JxKur7ppbdK2"
      }
    },
    {
      "cell_type": "code",
      "source": [
        "from langchain.chains import create_retrieval_chain\n",
        "from langchain.chains.combine_documents import create_stuff_documents_chain\n",
        "from langchain_core.prompts import ChatPromptTemplate\n"
      ],
      "metadata": {
        "id": "roOWm6bk1Ry8"
      },
      "execution_count": null,
      "outputs": []
    },
    {
      "cell_type": "markdown",
      "source": [
        "**Prompt and Responses by Question/Answers**"
      ],
      "metadata": {
        "id": "IGGt_yALc0YT"
      }
    },
    {
      "cell_type": "code",
      "source": [
        "system_prompt = (\n",
        "    \"As You are an assistant for question-answering tasks. \"\n",
        "    \"Use the following pieces of retrieved context to answer \"\n",
        "    \"the question. If you don't know the answer, say that you \"\n",
        "    \"don't know. Use three sentences maximum and keep the \"\n",
        "    \"answer concise.\"\n",
        "    \"\\n\\n\"\n",
        "    \"{context}\"\n",
        ")\n",
        "\n",
        "prompt = ChatPromptTemplate.from_messages(\n",
        "    [\n",
        "        (\"system\", system_prompt),\n",
        "        (\"human\", \"{input}\"),\n",
        "    ]\n",
        ")"
      ],
      "metadata": {
        "id": "DeByD0Ha1ZH8"
      },
      "execution_count": null,
      "outputs": []
    },
    {
      "cell_type": "code",
      "source": [
        "question_answer_chain = create_stuff_documents_chain(llm, prompt)\n",
        "rag_chain = create_retrieval_chain(retriever, question_answer_chain)"
      ],
      "metadata": {
        "id": "7QaJ6Ogf1jb4"
      },
      "execution_count": null,
      "outputs": []
    },
    {
      "cell_type": "code",
      "source": [
        "response = rag_chain.invoke({\"input\" : \"Did you know rafaqat ali\"})\n",
        "print(response[\"answer\"])"
      ],
      "metadata": {
        "id": "PNwFPnvQ1py6"
      },
      "execution_count": null,
      "outputs": []
    },
    {
      "cell_type": "code",
      "source": [
        "response = rag_chain.invoke({\"input\" : \"Tell me some detail of K2 Mountain\"})\n",
        "print(response[\"answer\"])"
      ],
      "metadata": {
        "id": "9nZZ9mea10t2"
      },
      "execution_count": null,
      "outputs": []
    }
  ]
}